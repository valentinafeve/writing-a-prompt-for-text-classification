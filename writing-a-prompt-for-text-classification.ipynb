{
 "cells": [
  {
   "cell_type": "code",
   "execution_count": 1,
   "metadata": {
    "collapsed": false,
    "ExecuteTime": {
     "end_time": "2023-06-26T18:25:30.072544Z",
     "start_time": "2023-06-26T18:25:28.611860Z"
    }
   },
   "outputs": [],
   "source": [
    "import openai\n",
    "import re"
   ]
  },
  {
   "cell_type": "code",
   "execution_count": 29,
   "metadata": {
    "collapsed": false,
    "ExecuteTime": {
     "end_time": "2023-06-26T18:27:58.370579Z",
     "start_time": "2023-06-26T18:27:58.366117Z"
    }
   },
   "outputs": [],
   "source": [
    "openai.api_key_path = \".openai\" # Path where the openai key is stored"
   ]
  },
  {
   "cell_type": "code",
   "execution_count": 30,
   "outputs": [],
   "source": [
    "def is_hexadecimal_color(word: str):\n",
    "    \"\"\"\n",
    "    Checks if a word is an hexadecimal color, returns True if so, False otherwise.\n",
    "    :param word: Word that is going to be validated\n",
    "    :return: True if word matches an hexadecimal format for a color, False otherwise\n",
    "    \"\"\"\n",
    "    pattern = r'^([A-Fa-f0-9]{6}|[A-Fa-f0-9]{3})$'\n",
    "    return bool(re.match(pattern, word))\n"
   ],
   "metadata": {
    "collapsed": false,
    "ExecuteTime": {
     "end_time": "2023-06-26T18:27:58.755522Z",
     "start_time": "2023-06-26T18:27:58.752409Z"
    }
   }
  },
  {
   "cell_type": "code",
   "execution_count": 31,
   "outputs": [],
   "source": [
    "categories = [\"blouse\", \"skirt\", \"dress\", \"outfit\", \"hoodie\", \"sweater\", \"polo\", \"shorts\", \"crop top\", \"jumpsuit\", \"jacket\", \"blazer\", \"cardigan\", \"pants\", \"vest\", \"t-shirt\", \"shirt\", \"overall\", \"bodysuit\", \"cape\", \"hat\"]"
   ],
   "metadata": {
    "collapsed": false,
    "ExecuteTime": {
     "end_time": "2023-06-26T18:27:59.036499Z",
     "start_time": "2023-06-26T18:27:59.034167Z"
    }
   }
  },
  {
   "cell_type": "code",
   "execution_count": 32,
   "outputs": [],
   "source": [
    "patterns =  [\"stripes\", \"dots\", \"cebra\", \"leopard\", \"gingham\", \"floral\", \"hearts\"]"
   ],
   "metadata": {
    "collapsed": false,
    "ExecuteTime": {
     "end_time": "2023-06-26T18:27:59.390997Z",
     "start_time": "2023-06-26T18:27:59.388336Z"
    }
   }
  },
  {
   "cell_type": "code",
   "execution_count": 33,
   "outputs": [],
   "source": [
    "styles = [\"urban\", \"comfy\", \"party\", \"business\", \"beach\", \"sports\"]"
   ],
   "metadata": {
    "collapsed": false,
    "ExecuteTime": {
     "end_time": "2023-06-26T18:27:59.861651Z",
     "start_time": "2023-06-26T18:27:59.859746Z"
    }
   }
  },
  {
   "cell_type": "code",
   "execution_count": 34,
   "metadata": {
    "collapsed": false,
    "ExecuteTime": {
     "end_time": "2023-06-26T18:28:00.293070Z",
     "start_time": "2023-06-26T18:28:00.289657Z"
    }
   },
   "outputs": [],
   "source": [
    "preffix = f\"\"\"\n",
    "You are a phrase tagger who receives phrases from women searching for clothes and generates the minimal amount of tags categorizing what they are looking for, you also generate nice and friendly messages to the users. Some examples may be:\n",
    "\n",
    "Query: \"Clothing for a funeral\". Tags: #000000 #101010. Message: Dark clothing is an appropriate option to show respect.\n",
    "Query: \"Yellow blouse\". Tags: #FFBF00 #FFEA00 #FDDA0D #FFFF8F #blouse. Message: Yellow is a bright color, and you are going to shine!\n",
    "\n",
    "Your job is to tag the text only with any of the following tags starting with #. category: #{' #'.join(categories)}. pattern: {' #'.join(patterns)}. Color tags are generated in hexadecimal format, instead of the #red tag, a valid tag would be #ff0000.\n",
    "You should not generate tags that do not exist. You should not use words outside of those listed, or use colors that are not in hexadecimal format, since the browser reading your responses won't recognize them. IMPORTANT: Suggest colors only when the user specifies a color in the query, otherwise, do not include colors. Suggest the minimal amount of tags for categorizing the sentence. What tags could summarize the following query. If the user is not looking for any specific clothing, make suggestions.\n",
    "\n",
    "Query:\n",
    "\"\"\""
   ]
  },
  {
   "cell_type": "code",
   "execution_count": 35,
   "outputs": [],
   "source": [
    "suffix = \". Tags:\""
   ],
   "metadata": {
    "collapsed": false,
    "ExecuteTime": {
     "end_time": "2023-06-26T18:28:01.036209Z",
     "start_time": "2023-06-26T18:28:01.031035Z"
    }
   }
  },
  {
   "cell_type": "code",
   "execution_count": 40,
   "metadata": {
    "collapsed": false,
    "ExecuteTime": {
     "end_time": "2023-06-26T18:28:15.979607Z",
     "start_time": "2023-06-26T18:28:15.976759Z"
    }
   },
   "outputs": [],
   "source": [
    "prompt = \"Red dress\""
   ]
  },
  {
   "cell_type": "code",
   "execution_count": 41,
   "outputs": [
    {
     "name": "stdout",
     "output_type": "stream",
     "text": [
      "\n",
      "You are a phrase tagger who receives phrases from women searching for clothes and generates the minimal amount of tags categorizing what they are looking for, you also generate nice and friendly messages to the users. Some examples may be:\n",
      "\n",
      "Query: \"Clothing for a funeral\". Tags: #000000 #101010. Message: Dark clothing is an appropriate option to show respect.\n",
      "Query: \"Yellow blouse\". Tags: #FFBF00 #FFEA00 #FDDA0D #FFFF8F #blouse. Message: Yellow is a bright color, and you are going to shine!\n",
      "\n",
      "Your job is to tag the text only with any of the following tags starting with #. category: #blouse #skirt #dress #outfit #hoodie #sweater #polo #shorts #crop top #jumpsuit #jacket #blazer #cardigan #pants #vest #t-shirt #shirt #overall #bodysuit #cape #hat. pattern: stripes #dots #cebra #leopard #gingham #floral #hearts. Color tags are generated in hexadecimal format, instead of the #red tag, a valid tag would be #ff0000.\n",
      "You should not generate tags that do not exist. You should not use words outside of those listed, or use colors that are not in hexadecimal format, since the browser reading your responses won't recognize them. IMPORTANT: Suggest colors only when the user specifies a color in the query, otherwise, do not include colors. Suggest the minimal amount of tags for categorizing the sentence. What tags could summarize the following query. If the user is not looking for any specific clothing, make suggestions.\n",
      "\n",
      "Query:\n",
      "Red dress. Tags:\n"
     ]
    }
   ],
   "source": [
    "# This is how the full prompt will look like\n",
    "print(preffix + prompt + suffix)"
   ],
   "metadata": {
    "collapsed": false,
    "ExecuteTime": {
     "end_time": "2023-06-26T18:28:16.361033Z",
     "start_time": "2023-06-26T18:28:16.357148Z"
    }
   }
  },
  {
   "cell_type": "code",
   "execution_count": 42,
   "metadata": {
    "collapsed": false,
    "ExecuteTime": {
     "end_time": "2023-06-26T18:28:19.844912Z",
     "start_time": "2023-06-26T18:28:16.947082Z"
    }
   },
   "outputs": [
    {
     "data": {
      "text/plain": "' #FF0000 #dress. Message: Red is a bold and beautiful color. Make sure to accessorize with the right jewelry and shoes to complete the look!'"
     },
     "execution_count": 42,
     "metadata": {},
     "output_type": "execute_result"
    }
   ],
   "source": [
    "# Using the openai library for getting the completion\n",
    "openai_response = openai.Completion.create(\n",
    "    model=\"text-davinci-003\",\n",
    "    max_tokens=100,\n",
    "    temperature=0.5,\n",
    "    prompt=preffix + prompt + suffix)\n",
    "response = openai_response['choices'][0]['text']\n",
    "response"
   ]
  },
  {
   "cell_type": "code",
   "execution_count": 43,
   "outputs": [
    {
     "data": {
      "text/plain": "'Red is a bold and beautiful color. Make sure to accessorize with the right jewelry and shoes to complete the look!'"
     },
     "execution_count": 43,
     "metadata": {},
     "output_type": "execute_result"
    }
   ],
   "source": [
    "# Extracting the message from the completion\n",
    "message = response.split('Message:')[-1].strip()\n",
    "message"
   ],
   "metadata": {
    "collapsed": false,
    "ExecuteTime": {
     "end_time": "2023-06-26T18:28:24.340632Z",
     "start_time": "2023-06-26T18:28:24.336444Z"
    }
   }
  },
  {
   "cell_type": "code",
   "execution_count": 44,
   "metadata": {
    "collapsed": false,
    "ExecuteTime": {
     "end_time": "2023-06-26T18:28:33.327204Z",
     "start_time": "2023-06-26T18:28:33.321602Z"
    }
   },
   "outputs": [],
   "source": [
    "# In my use case I am going to need to generate filters that look like this\n",
    "tags = response.split(' #')\n",
    "filters = {}\n",
    "for tag in tags:\n",
    "    if ' ' in tag:\n",
    "        tag = tag.split(' ')[0]\n",
    "    tag = tag.lower().strip().strip('.')\n",
    "    filter_name = None\n",
    "    if tag in categories:\n",
    "        filter_name = 'category'\n",
    "    if tag in patterns:\n",
    "        filter_name = 'pattern'\n",
    "    if is_hexadecimal_color(tag):\n",
    "        filter_name = 'color'\n",
    "\n",
    "    if filter_name:\n",
    "        filter_values = filters.get(filter_name, [])\n",
    "        filter_values.append(tag)\n",
    "        filters[filter_name] = filter_values\n"
   ]
  },
  {
   "cell_type": "code",
   "execution_count": 45,
   "outputs": [
    {
     "data": {
      "text/plain": "{'color': ['ff0000'], 'category': ['dress']}"
     },
     "execution_count": 45,
     "metadata": {},
     "output_type": "execute_result"
    }
   ],
   "source": [
    "filters"
   ],
   "metadata": {
    "collapsed": false,
    "ExecuteTime": {
     "end_time": "2023-06-26T18:28:34.179866Z",
     "start_time": "2023-06-26T18:28:34.177135Z"
    }
   }
  },
  {
   "cell_type": "code",
   "execution_count": null,
   "outputs": [],
   "source": [],
   "metadata": {
    "collapsed": false
   }
  }
 ],
 "metadata": {
  "kernelspec": {
   "display_name": "Python 3",
   "language": "python",
   "name": "python3"
  },
  "language_info": {
   "codemirror_mode": {
    "name": "ipython",
    "version": 2
   },
   "file_extension": ".py",
   "mimetype": "text/x-python",
   "name": "python",
   "nbconvert_exporter": "python",
   "pygments_lexer": "ipython2",
   "version": "2.7.6"
  }
 },
 "nbformat": 4,
 "nbformat_minor": 0
}
